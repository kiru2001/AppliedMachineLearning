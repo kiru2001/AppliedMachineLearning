{
 "cells": [
  {
   "cell_type": "markdown",
   "metadata": {
    "id": "I-CyWiZ185Gz"
   },
   "source": [
    "### 0. Import Libraries"
   ]
  },
  {
   "cell_type": "code",
   "execution_count": null,
   "metadata": {
    "id": "KuoO2feW-Itz"
   },
   "outputs": [],
   "source": [
    "!pip install datasets"
   ]
  },
  {
   "cell_type": "code",
   "execution_count": 2,
   "metadata": {
    "id": "IcRNvSV97iOC"
   },
   "outputs": [],
   "source": [
    "import pandas as pd\n",
    "from sklearn.model_selection import train_test_split\n",
    "from sklearn.metrics import classification_report\n",
    "import torch\n",
    "from torch.utils.data import DataLoader\n",
    "from transformers import AutoTokenizer, AutoModelForSequenceClassification, TrainingArguments, Trainer\n",
    "from datasets import Dataset, DatasetDict"
   ]
  },
  {
   "cell_type": "code",
   "execution_count": 3,
   "metadata": {
    "colab": {
     "base_uri": "https://localhost:8080/"
    },
    "id": "riB0vzLt8rjy",
    "outputId": "33bfd7c4-b2c3-4833-ded6-933739c2dd0e"
   },
   "outputs": [
    {
     "name": "stdout",
     "output_type": "stream",
     "text": [
      "Drive already mounted at /content/drive; to attempt to forcibly remount, call drive.mount(\"/content/drive\", force_remount=True).\n"
     ]
    }
   ],
   "source": [
    "from google.colab import drive\n",
    "drive.mount('/content/drive')"
   ]
  },
  {
   "cell_type": "code",
   "execution_count": 5,
   "metadata": {
    "id": "oYx3khDh9RNn"
   },
   "outputs": [],
   "source": [
    "path = '/content/drive/MyDrive/emotions_dataset/'\n",
    "\n",
    "test_df = pd.read_csv(path + 'test.csv', encoding='ISO-8859-1')\n",
    "train_df = pd.read_csv(path + 'train.csv', encoding='ISO-8859-1')"
   ]
  },
  {
   "cell_type": "markdown",
   "metadata": {
    "id": "R-vDErB_8_fn"
   },
   "source": [
    "### 1. Load the dataset"
   ]
  },
  {
   "cell_type": "code",
   "execution_count": 6,
   "metadata": {
    "id": "NUxOKyn27l-d"
   },
   "outputs": [],
   "source": [
    "train_df = train_df[['text', 'sentiment']].dropna()\n",
    "test_df = test_df[['text', 'sentiment']].dropna()\n",
    "\n",
    "# Convert text to string (in case it's float or something else)\n",
    "train_df['text'] = train_df['text'].astype(str)\n",
    "test_df['text'] = test_df['text'].astype(str)"
   ]
  },
  {
   "cell_type": "markdown",
   "metadata": {
    "id": "MYhR3Yfj940f"
   },
   "source": [
    "### 2. Encode labels to integers"
   ]
  },
  {
   "cell_type": "code",
   "execution_count": null,
   "metadata": {
    "id": "90osmamo93zN"
   },
   "outputs": [],
   "source": [
    "label2id = {'negative': 0, 'neutral': 1, 'positive': 2}\n",
    "id2label = {v: k for k, v in label2id.items()}\n",
    "train_df['label'] = train_df['sentiment'].map(label2id)\n",
    "test_df['label'] = test_df['sentiment'].map(label2id)"
   ]
  },
  {
   "cell_type": "code",
   "execution_count": 7,
   "metadata": {
    "colab": {
     "base_uri": "https://localhost:8080/",
     "height": 423
    },
    "id": "2XNlWZPOMwKg",
    "outputId": "77242112-d3f8-43c9-d005-82ae5e34bc18"
   },
   "outputs": [
    {
     "data": {
      "application/vnd.google.colaboratory.intrinsic+json": {
       "summary": "{\n  \"name\": \"train_df\",\n  \"rows\": 27480,\n  \"fields\": [\n    {\n      \"column\": \"text\",\n      \"properties\": {\n        \"dtype\": \"string\",\n        \"num_unique_values\": 27480,\n        \"samples\": [\n          \" Enjoy! Family trumps everything\",\n          \" --of them kinda turns me off of it all.  And then I buy more of them and dig a deeper hole, etc. ;;\",\n          \"Clive it`s my birthday pat me  http://apps.facebook.com/dogbook/profile/view/6386106\"\n        ],\n        \"semantic_type\": \"\",\n        \"description\": \"\"\n      }\n    },\n    {\n      \"column\": \"sentiment\",\n      \"properties\": {\n        \"dtype\": \"category\",\n        \"num_unique_values\": 3,\n        \"samples\": [\n          \"neutral\",\n          \"negative\",\n          \"positive\"\n        ],\n        \"semantic_type\": \"\",\n        \"description\": \"\"\n      }\n    },\n    {\n      \"column\": \"label\",\n      \"properties\": {\n        \"dtype\": \"number\",\n        \"std\": 0,\n        \"min\": 0,\n        \"max\": 2,\n        \"num_unique_values\": 3,\n        \"samples\": [\n          1,\n          0,\n          2\n        ],\n        \"semantic_type\": \"\",\n        \"description\": \"\"\n      }\n    }\n  ]\n}",
       "type": "dataframe",
       "variable_name": "train_df"
      },
      "text/html": [
       "\n",
       "  <div id=\"df-624e5f20-4c46-4eac-9829-ed27cdc80ccd\" class=\"colab-df-container\">\n",
       "    <div>\n",
       "<style scoped>\n",
       "    .dataframe tbody tr th:only-of-type {\n",
       "        vertical-align: middle;\n",
       "    }\n",
       "\n",
       "    .dataframe tbody tr th {\n",
       "        vertical-align: top;\n",
       "    }\n",
       "\n",
       "    .dataframe thead th {\n",
       "        text-align: right;\n",
       "    }\n",
       "</style>\n",
       "<table border=\"1\" class=\"dataframe\">\n",
       "  <thead>\n",
       "    <tr style=\"text-align: right;\">\n",
       "      <th></th>\n",
       "      <th>text</th>\n",
       "      <th>sentiment</th>\n",
       "      <th>label</th>\n",
       "    </tr>\n",
       "  </thead>\n",
       "  <tbody>\n",
       "    <tr>\n",
       "      <th>0</th>\n",
       "      <td>I`d have responded, if I were going</td>\n",
       "      <td>neutral</td>\n",
       "      <td>1</td>\n",
       "    </tr>\n",
       "    <tr>\n",
       "      <th>1</th>\n",
       "      <td>Sooo SAD I will miss you here in San Diego!!!</td>\n",
       "      <td>negative</td>\n",
       "      <td>0</td>\n",
       "    </tr>\n",
       "    <tr>\n",
       "      <th>2</th>\n",
       "      <td>my boss is bullying me...</td>\n",
       "      <td>negative</td>\n",
       "      <td>0</td>\n",
       "    </tr>\n",
       "    <tr>\n",
       "      <th>3</th>\n",
       "      <td>what interview! leave me alone</td>\n",
       "      <td>negative</td>\n",
       "      <td>0</td>\n",
       "    </tr>\n",
       "    <tr>\n",
       "      <th>4</th>\n",
       "      <td>Sons of ****, why couldn`t they put them on t...</td>\n",
       "      <td>negative</td>\n",
       "      <td>0</td>\n",
       "    </tr>\n",
       "    <tr>\n",
       "      <th>...</th>\n",
       "      <td>...</td>\n",
       "      <td>...</td>\n",
       "      <td>...</td>\n",
       "    </tr>\n",
       "    <tr>\n",
       "      <th>27476</th>\n",
       "      <td>wish we could come see u on Denver  husband l...</td>\n",
       "      <td>negative</td>\n",
       "      <td>0</td>\n",
       "    </tr>\n",
       "    <tr>\n",
       "      <th>27477</th>\n",
       "      <td>I`ve wondered about rake to.  The client has ...</td>\n",
       "      <td>negative</td>\n",
       "      <td>0</td>\n",
       "    </tr>\n",
       "    <tr>\n",
       "      <th>27478</th>\n",
       "      <td>Yay good for both of you. Enjoy the break - y...</td>\n",
       "      <td>positive</td>\n",
       "      <td>2</td>\n",
       "    </tr>\n",
       "    <tr>\n",
       "      <th>27479</th>\n",
       "      <td>But it was worth it  ****.</td>\n",
       "      <td>positive</td>\n",
       "      <td>2</td>\n",
       "    </tr>\n",
       "    <tr>\n",
       "      <th>27480</th>\n",
       "      <td>All this flirting going on - The ATG smiles...</td>\n",
       "      <td>neutral</td>\n",
       "      <td>1</td>\n",
       "    </tr>\n",
       "  </tbody>\n",
       "</table>\n",
       "<p>27480 rows × 3 columns</p>\n",
       "</div>\n",
       "    <div class=\"colab-df-buttons\">\n",
       "\n",
       "  <div class=\"colab-df-container\">\n",
       "    <button class=\"colab-df-convert\" onclick=\"convertToInteractive('df-624e5f20-4c46-4eac-9829-ed27cdc80ccd')\"\n",
       "            title=\"Convert this dataframe to an interactive table.\"\n",
       "            style=\"display:none;\">\n",
       "\n",
       "  <svg xmlns=\"http://www.w3.org/2000/svg\" height=\"24px\" viewBox=\"0 -960 960 960\">\n",
       "    <path d=\"M120-120v-720h720v720H120Zm60-500h600v-160H180v160Zm220 220h160v-160H400v160Zm0 220h160v-160H400v160ZM180-400h160v-160H180v160Zm440 0h160v-160H620v160ZM180-180h160v-160H180v160Zm440 0h160v-160H620v160Z\"/>\n",
       "  </svg>\n",
       "    </button>\n",
       "\n",
       "  <style>\n",
       "    .colab-df-container {\n",
       "      display:flex;\n",
       "      gap: 12px;\n",
       "    }\n",
       "\n",
       "    .colab-df-convert {\n",
       "      background-color: #E8F0FE;\n",
       "      border: none;\n",
       "      border-radius: 50%;\n",
       "      cursor: pointer;\n",
       "      display: none;\n",
       "      fill: #1967D2;\n",
       "      height: 32px;\n",
       "      padding: 0 0 0 0;\n",
       "      width: 32px;\n",
       "    }\n",
       "\n",
       "    .colab-df-convert:hover {\n",
       "      background-color: #E2EBFA;\n",
       "      box-shadow: 0px 1px 2px rgba(60, 64, 67, 0.3), 0px 1px 3px 1px rgba(60, 64, 67, 0.15);\n",
       "      fill: #174EA6;\n",
       "    }\n",
       "\n",
       "    .colab-df-buttons div {\n",
       "      margin-bottom: 4px;\n",
       "    }\n",
       "\n",
       "    [theme=dark] .colab-df-convert {\n",
       "      background-color: #3B4455;\n",
       "      fill: #D2E3FC;\n",
       "    }\n",
       "\n",
       "    [theme=dark] .colab-df-convert:hover {\n",
       "      background-color: #434B5C;\n",
       "      box-shadow: 0px 1px 3px 1px rgba(0, 0, 0, 0.15);\n",
       "      filter: drop-shadow(0px 1px 2px rgba(0, 0, 0, 0.3));\n",
       "      fill: #FFFFFF;\n",
       "    }\n",
       "  </style>\n",
       "\n",
       "    <script>\n",
       "      const buttonEl =\n",
       "        document.querySelector('#df-624e5f20-4c46-4eac-9829-ed27cdc80ccd button.colab-df-convert');\n",
       "      buttonEl.style.display =\n",
       "        google.colab.kernel.accessAllowed ? 'block' : 'none';\n",
       "\n",
       "      async function convertToInteractive(key) {\n",
       "        const element = document.querySelector('#df-624e5f20-4c46-4eac-9829-ed27cdc80ccd');\n",
       "        const dataTable =\n",
       "          await google.colab.kernel.invokeFunction('convertToInteractive',\n",
       "                                                    [key], {});\n",
       "        if (!dataTable) return;\n",
       "\n",
       "        const docLinkHtml = 'Like what you see? Visit the ' +\n",
       "          '<a target=\"_blank\" href=https://colab.research.google.com/notebooks/data_table.ipynb>data table notebook</a>'\n",
       "          + ' to learn more about interactive tables.';\n",
       "        element.innerHTML = '';\n",
       "        dataTable['output_type'] = 'display_data';\n",
       "        await google.colab.output.renderOutput(dataTable, element);\n",
       "        const docLink = document.createElement('div');\n",
       "        docLink.innerHTML = docLinkHtml;\n",
       "        element.appendChild(docLink);\n",
       "      }\n",
       "    </script>\n",
       "  </div>\n",
       "\n",
       "\n",
       "<div id=\"df-218be68d-80c5-4f19-aa24-abe3cdcfd098\">\n",
       "  <button class=\"colab-df-quickchart\" onclick=\"quickchart('df-218be68d-80c5-4f19-aa24-abe3cdcfd098')\"\n",
       "            title=\"Suggest charts\"\n",
       "            style=\"display:none;\">\n",
       "\n",
       "<svg xmlns=\"http://www.w3.org/2000/svg\" height=\"24px\"viewBox=\"0 0 24 24\"\n",
       "     width=\"24px\">\n",
       "    <g>\n",
       "        <path d=\"M19 3H5c-1.1 0-2 .9-2 2v14c0 1.1.9 2 2 2h14c1.1 0 2-.9 2-2V5c0-1.1-.9-2-2-2zM9 17H7v-7h2v7zm4 0h-2V7h2v10zm4 0h-2v-4h2v4z\"/>\n",
       "    </g>\n",
       "</svg>\n",
       "  </button>\n",
       "\n",
       "<style>\n",
       "  .colab-df-quickchart {\n",
       "      --bg-color: #E8F0FE;\n",
       "      --fill-color: #1967D2;\n",
       "      --hover-bg-color: #E2EBFA;\n",
       "      --hover-fill-color: #174EA6;\n",
       "      --disabled-fill-color: #AAA;\n",
       "      --disabled-bg-color: #DDD;\n",
       "  }\n",
       "\n",
       "  [theme=dark] .colab-df-quickchart {\n",
       "      --bg-color: #3B4455;\n",
       "      --fill-color: #D2E3FC;\n",
       "      --hover-bg-color: #434B5C;\n",
       "      --hover-fill-color: #FFFFFF;\n",
       "      --disabled-bg-color: #3B4455;\n",
       "      --disabled-fill-color: #666;\n",
       "  }\n",
       "\n",
       "  .colab-df-quickchart {\n",
       "    background-color: var(--bg-color);\n",
       "    border: none;\n",
       "    border-radius: 50%;\n",
       "    cursor: pointer;\n",
       "    display: none;\n",
       "    fill: var(--fill-color);\n",
       "    height: 32px;\n",
       "    padding: 0;\n",
       "    width: 32px;\n",
       "  }\n",
       "\n",
       "  .colab-df-quickchart:hover {\n",
       "    background-color: var(--hover-bg-color);\n",
       "    box-shadow: 0 1px 2px rgba(60, 64, 67, 0.3), 0 1px 3px 1px rgba(60, 64, 67, 0.15);\n",
       "    fill: var(--button-hover-fill-color);\n",
       "  }\n",
       "\n",
       "  .colab-df-quickchart-complete:disabled,\n",
       "  .colab-df-quickchart-complete:disabled:hover {\n",
       "    background-color: var(--disabled-bg-color);\n",
       "    fill: var(--disabled-fill-color);\n",
       "    box-shadow: none;\n",
       "  }\n",
       "\n",
       "  .colab-df-spinner {\n",
       "    border: 2px solid var(--fill-color);\n",
       "    border-color: transparent;\n",
       "    border-bottom-color: var(--fill-color);\n",
       "    animation:\n",
       "      spin 1s steps(1) infinite;\n",
       "  }\n",
       "\n",
       "  @keyframes spin {\n",
       "    0% {\n",
       "      border-color: transparent;\n",
       "      border-bottom-color: var(--fill-color);\n",
       "      border-left-color: var(--fill-color);\n",
       "    }\n",
       "    20% {\n",
       "      border-color: transparent;\n",
       "      border-left-color: var(--fill-color);\n",
       "      border-top-color: var(--fill-color);\n",
       "    }\n",
       "    30% {\n",
       "      border-color: transparent;\n",
       "      border-left-color: var(--fill-color);\n",
       "      border-top-color: var(--fill-color);\n",
       "      border-right-color: var(--fill-color);\n",
       "    }\n",
       "    40% {\n",
       "      border-color: transparent;\n",
       "      border-right-color: var(--fill-color);\n",
       "      border-top-color: var(--fill-color);\n",
       "    }\n",
       "    60% {\n",
       "      border-color: transparent;\n",
       "      border-right-color: var(--fill-color);\n",
       "    }\n",
       "    80% {\n",
       "      border-color: transparent;\n",
       "      border-right-color: var(--fill-color);\n",
       "      border-bottom-color: var(--fill-color);\n",
       "    }\n",
       "    90% {\n",
       "      border-color: transparent;\n",
       "      border-bottom-color: var(--fill-color);\n",
       "    }\n",
       "  }\n",
       "</style>\n",
       "\n",
       "  <script>\n",
       "    async function quickchart(key) {\n",
       "      const quickchartButtonEl =\n",
       "        document.querySelector('#' + key + ' button');\n",
       "      quickchartButtonEl.disabled = true;  // To prevent multiple clicks.\n",
       "      quickchartButtonEl.classList.add('colab-df-spinner');\n",
       "      try {\n",
       "        const charts = await google.colab.kernel.invokeFunction(\n",
       "            'suggestCharts', [key], {});\n",
       "      } catch (error) {\n",
       "        console.error('Error during call to suggestCharts:', error);\n",
       "      }\n",
       "      quickchartButtonEl.classList.remove('colab-df-spinner');\n",
       "      quickchartButtonEl.classList.add('colab-df-quickchart-complete');\n",
       "    }\n",
       "    (() => {\n",
       "      let quickchartButtonEl =\n",
       "        document.querySelector('#df-218be68d-80c5-4f19-aa24-abe3cdcfd098 button');\n",
       "      quickchartButtonEl.style.display =\n",
       "        google.colab.kernel.accessAllowed ? 'block' : 'none';\n",
       "    })();\n",
       "  </script>\n",
       "</div>\n",
       "\n",
       "  <div id=\"id_7844ae10-be93-4a42-a189-e8bd2ebc328f\">\n",
       "    <style>\n",
       "      .colab-df-generate {\n",
       "        background-color: #E8F0FE;\n",
       "        border: none;\n",
       "        border-radius: 50%;\n",
       "        cursor: pointer;\n",
       "        display: none;\n",
       "        fill: #1967D2;\n",
       "        height: 32px;\n",
       "        padding: 0 0 0 0;\n",
       "        width: 32px;\n",
       "      }\n",
       "\n",
       "      .colab-df-generate:hover {\n",
       "        background-color: #E2EBFA;\n",
       "        box-shadow: 0px 1px 2px rgba(60, 64, 67, 0.3), 0px 1px 3px 1px rgba(60, 64, 67, 0.15);\n",
       "        fill: #174EA6;\n",
       "      }\n",
       "\n",
       "      [theme=dark] .colab-df-generate {\n",
       "        background-color: #3B4455;\n",
       "        fill: #D2E3FC;\n",
       "      }\n",
       "\n",
       "      [theme=dark] .colab-df-generate:hover {\n",
       "        background-color: #434B5C;\n",
       "        box-shadow: 0px 1px 3px 1px rgba(0, 0, 0, 0.15);\n",
       "        filter: drop-shadow(0px 1px 2px rgba(0, 0, 0, 0.3));\n",
       "        fill: #FFFFFF;\n",
       "      }\n",
       "    </style>\n",
       "    <button class=\"colab-df-generate\" onclick=\"generateWithVariable('train_df')\"\n",
       "            title=\"Generate code using this dataframe.\"\n",
       "            style=\"display:none;\">\n",
       "\n",
       "  <svg xmlns=\"http://www.w3.org/2000/svg\" height=\"24px\"viewBox=\"0 0 24 24\"\n",
       "       width=\"24px\">\n",
       "    <path d=\"M7,19H8.4L18.45,9,17,7.55,7,17.6ZM5,21V16.75L18.45,3.32a2,2,0,0,1,2.83,0l1.4,1.43a1.91,1.91,0,0,1,.58,1.4,1.91,1.91,0,0,1-.58,1.4L9.25,21ZM18.45,9,17,7.55Zm-12,3A5.31,5.31,0,0,0,4.9,8.1,5.31,5.31,0,0,0,1,6.5,5.31,5.31,0,0,0,4.9,4.9,5.31,5.31,0,0,0,6.5,1,5.31,5.31,0,0,0,8.1,4.9,5.31,5.31,0,0,0,12,6.5,5.46,5.46,0,0,0,6.5,12Z\"/>\n",
       "  </svg>\n",
       "    </button>\n",
       "    <script>\n",
       "      (() => {\n",
       "      const buttonEl =\n",
       "        document.querySelector('#id_7844ae10-be93-4a42-a189-e8bd2ebc328f button.colab-df-generate');\n",
       "      buttonEl.style.display =\n",
       "        google.colab.kernel.accessAllowed ? 'block' : 'none';\n",
       "\n",
       "      buttonEl.onclick = () => {\n",
       "        google.colab.notebook.generateWithVariable('train_df');\n",
       "      }\n",
       "      })();\n",
       "    </script>\n",
       "  </div>\n",
       "\n",
       "    </div>\n",
       "  </div>\n"
      ],
      "text/plain": [
       "                                                    text sentiment  label\n",
       "0                    I`d have responded, if I were going   neutral      1\n",
       "1          Sooo SAD I will miss you here in San Diego!!!  negative      0\n",
       "2                              my boss is bullying me...  negative      0\n",
       "3                         what interview! leave me alone  negative      0\n",
       "4       Sons of ****, why couldn`t they put them on t...  negative      0\n",
       "...                                                  ...       ...    ...\n",
       "27476   wish we could come see u on Denver  husband l...  negative      0\n",
       "27477   I`ve wondered about rake to.  The client has ...  negative      0\n",
       "27478   Yay good for both of you. Enjoy the break - y...  positive      2\n",
       "27479                         But it was worth it  ****.  positive      2\n",
       "27480     All this flirting going on - The ATG smiles...   neutral      1\n",
       "\n",
       "[27480 rows x 3 columns]"
      ]
     },
     "execution_count": 7,
     "metadata": {},
     "output_type": "execute_result"
    }
   ],
   "source": [
    "train_df"
   ]
  },
  {
   "cell_type": "code",
   "execution_count": 8,
   "metadata": {
    "colab": {
     "base_uri": "https://localhost:8080/"
    },
    "id": "besB7uewBUoO",
    "outputId": "a098f0db-ccfe-429f-cce2-c1570d141b3e"
   },
   "outputs": [
    {
     "data": {
      "text/plain": [
       "(27480, 3534)"
      ]
     },
     "execution_count": 8,
     "metadata": {},
     "output_type": "execute_result"
    }
   ],
   "source": [
    "len(train_df), len(test_df)"
   ]
  },
  {
   "cell_type": "markdown",
   "metadata": {
    "id": "9DSUk_B59OXI"
   },
   "source": [
    "### 3. Convert to Hugging Face datasets"
   ]
  },
  {
   "cell_type": "code",
   "execution_count": 9,
   "metadata": {
    "id": "8YlULya_7qTo"
   },
   "outputs": [],
   "source": [
    "train_dataset = Dataset.from_pandas(train_df[['text', 'label']])\n",
    "test_dataset = Dataset.from_pandas(test_df[['text', 'label']])\n",
    "dataset = DatasetDict({'train': train_dataset, 'test': test_dataset})"
   ]
  },
  {
   "cell_type": "code",
   "execution_count": 10,
   "metadata": {
    "colab": {
     "base_uri": "https://localhost:8080/"
    },
    "id": "LZ6EgLh8ENrf",
    "outputId": "4a9aaff3-5655-4761-e314-04a1fb0f56c8"
   },
   "outputs": [
    {
     "data": {
      "text/plain": [
       "Dataset({\n",
       "    features: ['text', 'label', '__index_level_0__'],\n",
       "    num_rows: 27480\n",
       "})"
      ]
     },
     "execution_count": 10,
     "metadata": {},
     "output_type": "execute_result"
    }
   ],
   "source": [
    "train_dataset"
   ]
  },
  {
   "cell_type": "code",
   "execution_count": 11,
   "metadata": {
    "colab": {
     "base_uri": "https://localhost:8080/"
    },
    "id": "6XP14lrhEQzL",
    "outputId": "7b38fed3-ca3f-447d-ddde-b11ff86dda93"
   },
   "outputs": [
    {
     "data": {
      "text/plain": [
       "Dataset({\n",
       "    features: ['text', 'label', '__index_level_0__'],\n",
       "    num_rows: 3534\n",
       "})"
      ]
     },
     "execution_count": 11,
     "metadata": {},
     "output_type": "execute_result"
    }
   ],
   "source": [
    "test_dataset"
   ]
  },
  {
   "cell_type": "code",
   "execution_count": 12,
   "metadata": {
    "colab": {
     "base_uri": "https://localhost:8080/"
    },
    "id": "Kp-BhpF-ETQu",
    "outputId": "cf4995df-58c3-4fd6-92c8-eda76b1c4b56"
   },
   "outputs": [
    {
     "data": {
      "text/plain": [
       "DatasetDict({\n",
       "    train: Dataset({\n",
       "        features: ['text', 'label', '__index_level_0__'],\n",
       "        num_rows: 27480\n",
       "    })\n",
       "    test: Dataset({\n",
       "        features: ['text', 'label', '__index_level_0__'],\n",
       "        num_rows: 3534\n",
       "    })\n",
       "})"
      ]
     },
     "execution_count": 12,
     "metadata": {},
     "output_type": "execute_result"
    }
   ],
   "source": [
    "dataset"
   ]
  },
  {
   "cell_type": "code",
   "execution_count": 13,
   "metadata": {
    "colab": {
     "base_uri": "https://localhost:8080/"
    },
    "id": "EMmd6vWcHnRc",
    "outputId": "2fb5bdda-782e-49a8-fde6-1008eefe634c"
   },
   "outputs": [
    {
     "name": "stdout",
     "output_type": "stream",
     "text": [
      "<class 'str'>\n",
      " I`d have responded, if I were going\n",
      "[' I`d have responded, if I were going', ' Sooo SAD I will miss you here in San Diego!!!']\n"
     ]
    }
   ],
   "source": [
    "print(type(dataset['train'][0]['text']))\n",
    "print(dataset['train'][0]['text'])\n",
    "print(dataset['train'][:2]['text'])"
   ]
  },
  {
   "cell_type": "code",
   "execution_count": 14,
   "metadata": {
    "id": "hJUndMCcPdqj"
   },
   "outputs": [],
   "source": [
    "import warnings\n",
    "warnings.filterwarnings(\"ignore\")"
   ]
  },
  {
   "cell_type": "markdown",
   "metadata": {
    "id": "7pqpEMwE9RHz"
   },
   "source": [
    "### 4. Load tokenizer"
   ]
  },
  {
   "cell_type": "code",
   "execution_count": 15,
   "metadata": {
    "colab": {
     "base_uri": "https://localhost:8080/",
     "height": 145,
     "referenced_widgets": [
      "fdacd2830543460a8a0b088e724c0f67",
      "eff4fbdcc39b429a8c1f3aff6b7345ff",
      "8a5070304287432e98c7e7c493196a55",
      "8069004b7c9144ee8a389124833862fe",
      "6c4eb6549f834bd6a5e61cfd19e39a58",
      "59647bbbf3014cd5a4dcaa078f4c84cf",
      "c1d9fb0f9b87409c82d4da9736d4578b",
      "fd947909bf5d47d5a6832465f5db5700",
      "6e8186a44277481391f8da7658a87459",
      "4b86260bad1e443ca34e8285f7a9d5e8",
      "db6dc453b0c540e2ae6d4006625b49a0",
      "1927399fb40c4ffc9ea1ce828da13a47",
      "76eeddb99a714135944391dc008c6559",
      "4edad6f5f5e347c787ff58932d57dbb6",
      "13bdb5e757d2454cabf896a673eee36f",
      "ba353d0ab28c4e8581da91c0d4081354",
      "a81377b3050440fc8409cecaae4d1873",
      "d2d5d8caff6f4562b5265a6330b7c85d",
      "fdaf6ea7be06485d838bf36f95648d93",
      "241bcdf0954d43e69b153165f8b85c49",
      "a97ae85bc36e48eeb360d42c52694844",
      "33d22b7760254e06b864422ddc999a81",
      "c6423dd1a2774fe19125cdaf8c2c8e18",
      "3cbb9bda9b10491c80553e78d5e8da1c",
      "9ade58b9660d4a419077c25868ac53e7",
      "0148e17104374b75bebecb58a5bdc94c",
      "735aa65c36d749719c46b330f34d8a77",
      "0b9c756d429848198fdf8275137f1a4a",
      "1e7b7a2bee684e30a05ca969091b4bcb",
      "26ac7667d1a843d1be700c19f00a4248",
      "244bf135d3954f60acf527282ebb5fed",
      "95f6559014b74ce29c22b95fe12f808f",
      "b6ffd39ecd7c4bea9360b50509488544",
      "ef2048cfd3b44272a1c093a4dc253848",
      "73368a337b9c42da8a9e0feb2c173d8e",
      "8f26fd27476d41ba869a547dc21b00c9",
      "50c2e85c34fa4c938283d8dcf0f88ab3",
      "759350956ac1436d9679bd80dc491c41",
      "09cdaa72cd3249a28ae7a7335cc9858d",
      "e01592e159e24fbca9c4e08aacbe72a8",
      "7cd29950bc4949f796d4cbf4dcb72436",
      "827ea22db901418b838b0f350c1c487d",
      "c087422dc46d497e968623c499bee0d4",
      "9a40e13ddbaf40abbb60ea78265731fa"
     ]
    },
    "id": "M0-PRM9K7sfx",
    "outputId": "5783157d-a2c2-44d4-d298-0d06c2ddb0a3"
   },
   "outputs": [
    {
     "data": {
      "application/vnd.jupyter.widget-view+json": {
       "model_id": "fdacd2830543460a8a0b088e724c0f67",
       "version_major": 2,
       "version_minor": 0
      },
      "text/plain": [
       "tokenizer_config.json:   0%|          | 0.00/48.0 [00:00<?, ?B/s]"
      ]
     },
     "metadata": {},
     "output_type": "display_data"
    },
    {
     "data": {
      "application/vnd.jupyter.widget-view+json": {
       "model_id": "1927399fb40c4ffc9ea1ce828da13a47",
       "version_major": 2,
       "version_minor": 0
      },
      "text/plain": [
       "config.json:   0%|          | 0.00/570 [00:00<?, ?B/s]"
      ]
     },
     "metadata": {},
     "output_type": "display_data"
    },
    {
     "data": {
      "application/vnd.jupyter.widget-view+json": {
       "model_id": "c6423dd1a2774fe19125cdaf8c2c8e18",
       "version_major": 2,
       "version_minor": 0
      },
      "text/plain": [
       "vocab.txt:   0%|          | 0.00/232k [00:00<?, ?B/s]"
      ]
     },
     "metadata": {},
     "output_type": "display_data"
    },
    {
     "data": {
      "application/vnd.jupyter.widget-view+json": {
       "model_id": "ef2048cfd3b44272a1c093a4dc253848",
       "version_major": 2,
       "version_minor": 0
      },
      "text/plain": [
       "tokenizer.json:   0%|          | 0.00/466k [00:00<?, ?B/s]"
      ]
     },
     "metadata": {},
     "output_type": "display_data"
    }
   ],
   "source": [
    "checkpoint = \"bert-base-uncased\"\n",
    "\n",
    "tokenizer = AutoTokenizer.from_pretrained(checkpoint)\n",
    "\n",
    "def tokenize_function(batch):\n",
    "  texts = [str(t) for t in batch[\"text\"]]\n",
    "  return tokenizer(texts, padding=True, truncation=True)"
   ]
  },
  {
   "cell_type": "code",
   "execution_count": 16,
   "metadata": {
    "colab": {
     "base_uri": "https://localhost:8080/",
     "height": 81,
     "referenced_widgets": [
      "f05c2dd0efa8415a82429f2b7e1aa2fe",
      "b8dfb23463de4eb3911b9d5ed692940b",
      "061f8f1881324f71b5c2066b4b32573d",
      "5ecb7c77bd76427f97b840a783753b4b",
      "e6a194f2b8314562bf84bfa837c89451",
      "2b0a0d765c7b49828a31a23e4a4956c3",
      "0054747870524bb691b1616f9134587c",
      "4609a020b50b422ba037e9cc4cd76247",
      "862fb7f2256f4e32b440ea995982df20",
      "298fdabd2e084bc8ad744e659f33d16b",
      "c3d767521856420a9931ffb093591320",
      "41949fee1fe548eeaeacf1896d56f515",
      "b1b7c43d49df442797cfd1358ca10208",
      "ce81746b09b2425a965016dd10b52bb7",
      "66525562041a4fc7baa4b63890a9e36e",
      "335ecddd27d04b1ebe10340d1896f22f",
      "0c90dcf16a3840cab1a655154eb31051",
      "80032cb4b84141ffa2f0ae0e2a0a311c",
      "64b226ca1c1d492587edbf82eb7c141a",
      "10307b78c0c1418a893261821077f5c4",
      "41bb3b0a35db4c28a04dd503ab49e728",
      "faeb338c0fdb4a55b93422d34cc5794b"
     ]
    },
    "id": "AVXPxqDfDe4a",
    "outputId": "c2bcbf28-773d-4e26-ccae-be846258fde6"
   },
   "outputs": [
    {
     "data": {
      "application/vnd.jupyter.widget-view+json": {
       "model_id": "f05c2dd0efa8415a82429f2b7e1aa2fe",
       "version_major": 2,
       "version_minor": 0
      },
      "text/plain": [
       "Map:   0%|          | 0/27480 [00:00<?, ? examples/s]"
      ]
     },
     "metadata": {},
     "output_type": "display_data"
    },
    {
     "data": {
      "application/vnd.jupyter.widget-view+json": {
       "model_id": "41949fee1fe548eeaeacf1896d56f515",
       "version_major": 2,
       "version_minor": 0
      },
      "text/plain": [
       "Map:   0%|          | 0/3534 [00:00<?, ? examples/s]"
      ]
     },
     "metadata": {},
     "output_type": "display_data"
    }
   ],
   "source": [
    "tokenized_dataset = dataset.map(tokenize_function, batched=True)"
   ]
  },
  {
   "cell_type": "code",
   "execution_count": 17,
   "metadata": {
    "colab": {
     "base_uri": "https://localhost:8080/"
    },
    "id": "cpzj-ULBMGvG",
    "outputId": "81dc45f4-a862-4b5b-9c2a-8a910f47205f"
   },
   "outputs": [
    {
     "data": {
      "text/plain": [
       "DatasetDict({\n",
       "    train: Dataset({\n",
       "        features: ['text', 'label', '__index_level_0__', 'input_ids', 'token_type_ids', 'attention_mask'],\n",
       "        num_rows: 27480\n",
       "    })\n",
       "    test: Dataset({\n",
       "        features: ['text', 'label', '__index_level_0__', 'input_ids', 'token_type_ids', 'attention_mask'],\n",
       "        num_rows: 3534\n",
       "    })\n",
       "})"
      ]
     },
     "execution_count": 17,
     "metadata": {},
     "output_type": "execute_result"
    }
   ],
   "source": [
    "tokenized_dataset"
   ]
  },
  {
   "cell_type": "markdown",
   "metadata": {
    "id": "k-oQeGdm9Ui6"
   },
   "source": [
    "### 5. Load model"
   ]
  },
  {
   "cell_type": "code",
   "execution_count": 36,
   "metadata": {
    "colab": {
     "base_uri": "https://localhost:8080/"
    },
    "id": "s7lHHjPw7ui0",
    "outputId": "c8cf59d2-3f1b-4fa0-c091-d40c07061247"
   },
   "outputs": [
    {
     "name": "stderr",
     "output_type": "stream",
     "text": [
      "Some weights of BertForSequenceClassification were not initialized from the model checkpoint at bert-base-uncased and are newly initialized: ['classifier.bias', 'classifier.weight']\n",
      "You should probably TRAIN this model on a down-stream task to be able to use it for predictions and inference.\n"
     ]
    }
   ],
   "source": [
    "model = AutoModelForSequenceClassification.from_pretrained(checkpoint, num_labels=3, id2label=id2label, label2id=label2id)"
   ]
  },
  {
   "cell_type": "markdown",
   "metadata": {
    "id": "6bYzCHGi9aVa"
   },
   "source": [
    "### 6. Training arguments"
   ]
  },
  {
   "cell_type": "code",
   "execution_count": 22,
   "metadata": {
    "id": "ty2j8cSw7wlp"
   },
   "outputs": [],
   "source": [
    "training_args = TrainingArguments(\n",
    "    output_dir=\"./results\",\n",
    "    eval_strategy=\"epoch\",\n",
    "    save_strategy=\"epoch\",\n",
    "    num_train_epochs=3,\n",
    "    per_device_train_batch_size=64,\n",
    "    per_device_eval_batch_size=64,\n",
    "    load_best_model_at_end=True,\n",
    "    logging_dir=\"./logs\"\n",
    ")"
   ]
  },
  {
   "cell_type": "markdown",
   "metadata": {
    "id": "zRtgXICt9dCn"
   },
   "source": [
    "### 7. Metrics function"
   ]
  },
  {
   "cell_type": "code",
   "execution_count": 20,
   "metadata": {
    "id": "18C826CL7ywY"
   },
   "outputs": [],
   "source": [
    "def compute_metrics(eval_pred):\n",
    "    predictions, labels = eval_pred\n",
    "    preds = predictions.argmax(axis=1)\n",
    "    return classification_report(labels, preds, target_names=id2label.values(), output_dict=True)"
   ]
  },
  {
   "cell_type": "markdown",
   "metadata": {
    "id": "SNMIrRCF9it1"
   },
   "source": [
    "### 8. Trainer"
   ]
  },
  {
   "cell_type": "code",
   "execution_count": 23,
   "metadata": {
    "colab": {
     "base_uri": "https://localhost:8080/",
     "height": 814
    },
    "id": "2AEdW2O671Ft",
    "outputId": "d691a5e0-dc8e-44d1-ccc3-56485931fb08"
   },
   "outputs": [
    {
     "data": {
      "text/html": [
       "\n",
       "    <div>\n",
       "      \n",
       "      <progress value='1290' max='1290' style='width:300px; height:20px; vertical-align: middle;'></progress>\n",
       "      [1290/1290 22:47, Epoch 3/3]\n",
       "    </div>\n",
       "    <table border=\"1\" class=\"dataframe\">\n",
       "  <thead>\n",
       " <tr style=\"text-align: left;\">\n",
       "      <th>Epoch</th>\n",
       "      <th>Training Loss</th>\n",
       "      <th>Validation Loss</th>\n",
       "      <th>Negative</th>\n",
       "      <th>Neutral</th>\n",
       "      <th>Positive</th>\n",
       "      <th>Accuracy</th>\n",
       "      <th>Macro avg</th>\n",
       "      <th>Weighted avg</th>\n",
       "    </tr>\n",
       "  </thead>\n",
       "  <tbody>\n",
       "    <tr>\n",
       "      <td>1</td>\n",
       "      <td>No log</td>\n",
       "      <td>0.496309</td>\n",
       "      <td>{'precision': 0.8539192399049881, 'recall': 0.7182817182817183, 'f1-score': 0.7802495930548019, 'support': 1001.0}</td>\n",
       "      <td>{'precision': 0.7205793602896802, 'recall': 0.8349650349650349, 'f1-score': 0.7735665694849369, 'support': 1430.0}</td>\n",
       "      <td>{'precision': 0.8618357487922705, 'recall': 0.8087035358114234, 'f1-score': 0.8344246959775491, 'support': 1103.0}</td>\n",
       "      <td>0.793718</td>\n",
       "      <td>{'precision': 0.812111449662313, 'recall': 0.7873167630193922, 'f1-score': 0.7960802861724293, 'support': 3534.0}</td>\n",
       "      <td>{'precision': 0.802435335392476, 'recall': 0.7937181663837012, 'f1-score': 0.7944540115094944, 'support': 3534.0}</td>\n",
       "    </tr>\n",
       "    <tr>\n",
       "      <td>2</td>\n",
       "      <td>0.530300</td>\n",
       "      <td>0.503552</td>\n",
       "      <td>{'precision': 0.7633242999096658, 'recall': 0.8441558441558441, 'f1-score': 0.801707779886148, 'support': 1001.0}</td>\n",
       "      <td>{'precision': 0.7705035971223022, 'recall': 0.7489510489510489, 'f1-score': 0.7595744680851064, 'support': 1430.0}</td>\n",
       "      <td>{'precision': 0.8640308582449373, 'recall': 0.8123300090661831, 'f1-score': 0.8373831775700935, 'support': 1103.0}</td>\n",
       "      <td>0.795699</td>\n",
       "      <td>{'precision': 0.7992862517589684, 'recall': 0.8018123007243587, 'f1-score': 0.7995551418471161, 'support': 3534.0}</td>\n",
       "      <td>{'precision': 0.7976609521048764, 'recall': 0.7956989247311828, 'f1-score': 0.7957936111736134, 'support': 3534.0}</td>\n",
       "    </tr>\n",
       "    <tr>\n",
       "      <td>3</td>\n",
       "      <td>0.334600</td>\n",
       "      <td>0.606910</td>\n",
       "      <td>{'precision': 0.7900497512437811, 'recall': 0.7932067932067932, 'f1-score': 0.7916251246261217, 'support': 1001.0}</td>\n",
       "      <td>{'precision': 0.7610371408549405, 'recall': 0.7594405594405594, 'f1-score': 0.760238011900595, 'support': 1430.0}</td>\n",
       "      <td>{'precision': 0.8421052631578947, 'recall': 0.8413417951042611, 'f1-score': 0.8417233560090703, 'support': 1103.0}</td>\n",
       "      <td>0.794567</td>\n",
       "      <td>{'precision': 0.7977307184188721, 'recall': 0.7979963825838712, 'f1-score': 0.7978621641785956, 'support': 3534.0}</td>\n",
       "      <td>{'precision': 0.7945571640296399, 'recall': 0.7945670628183361, 'f1-score': 0.7945608286492936, 'support': 3534.0}</td>\n",
       "    </tr>\n",
       "  </tbody>\n",
       "</table><p>"
      ],
      "text/plain": [
       "<IPython.core.display.HTML object>"
      ]
     },
     "metadata": {},
     "output_type": "display_data"
    },
    {
     "name": "stderr",
     "output_type": "stream",
     "text": [
      "Trainer is attempting to log a value of \"{'precision': 0.8539192399049881, 'recall': 0.7182817182817183, 'f1-score': 0.7802495930548019, 'support': 1001.0}\" of type <class 'dict'> for key \"eval/negative\" as a scalar. This invocation of Tensorboard's writer.add_scalar() is incorrect so we dropped this attribute.\n",
      "Trainer is attempting to log a value of \"{'precision': 0.7205793602896802, 'recall': 0.8349650349650349, 'f1-score': 0.7735665694849369, 'support': 1430.0}\" of type <class 'dict'> for key \"eval/neutral\" as a scalar. This invocation of Tensorboard's writer.add_scalar() is incorrect so we dropped this attribute.\n",
      "Trainer is attempting to log a value of \"{'precision': 0.8618357487922705, 'recall': 0.8087035358114234, 'f1-score': 0.8344246959775491, 'support': 1103.0}\" of type <class 'dict'> for key \"eval/positive\" as a scalar. This invocation of Tensorboard's writer.add_scalar() is incorrect so we dropped this attribute.\n",
      "Trainer is attempting to log a value of \"{'precision': 0.812111449662313, 'recall': 0.7873167630193922, 'f1-score': 0.7960802861724293, 'support': 3534.0}\" of type <class 'dict'> for key \"eval/macro avg\" as a scalar. This invocation of Tensorboard's writer.add_scalar() is incorrect so we dropped this attribute.\n",
      "Trainer is attempting to log a value of \"{'precision': 0.802435335392476, 'recall': 0.7937181663837012, 'f1-score': 0.7944540115094944, 'support': 3534.0}\" of type <class 'dict'> for key \"eval/weighted avg\" as a scalar. This invocation of Tensorboard's writer.add_scalar() is incorrect so we dropped this attribute.\n",
      "Trainer is attempting to log a value of \"{'precision': 0.7633242999096658, 'recall': 0.8441558441558441, 'f1-score': 0.801707779886148, 'support': 1001.0}\" of type <class 'dict'> for key \"eval/negative\" as a scalar. This invocation of Tensorboard's writer.add_scalar() is incorrect so we dropped this attribute.\n",
      "Trainer is attempting to log a value of \"{'precision': 0.7705035971223022, 'recall': 0.7489510489510489, 'f1-score': 0.7595744680851064, 'support': 1430.0}\" of type <class 'dict'> for key \"eval/neutral\" as a scalar. This invocation of Tensorboard's writer.add_scalar() is incorrect so we dropped this attribute.\n",
      "Trainer is attempting to log a value of \"{'precision': 0.8640308582449373, 'recall': 0.8123300090661831, 'f1-score': 0.8373831775700935, 'support': 1103.0}\" of type <class 'dict'> for key \"eval/positive\" as a scalar. This invocation of Tensorboard's writer.add_scalar() is incorrect so we dropped this attribute.\n",
      "Trainer is attempting to log a value of \"{'precision': 0.7992862517589684, 'recall': 0.8018123007243587, 'f1-score': 0.7995551418471161, 'support': 3534.0}\" of type <class 'dict'> for key \"eval/macro avg\" as a scalar. This invocation of Tensorboard's writer.add_scalar() is incorrect so we dropped this attribute.\n",
      "Trainer is attempting to log a value of \"{'precision': 0.7976609521048764, 'recall': 0.7956989247311828, 'f1-score': 0.7957936111736134, 'support': 3534.0}\" of type <class 'dict'> for key \"eval/weighted avg\" as a scalar. This invocation of Tensorboard's writer.add_scalar() is incorrect so we dropped this attribute.\n",
      "Trainer is attempting to log a value of \"{'precision': 0.7900497512437811, 'recall': 0.7932067932067932, 'f1-score': 0.7916251246261217, 'support': 1001.0}\" of type <class 'dict'> for key \"eval/negative\" as a scalar. This invocation of Tensorboard's writer.add_scalar() is incorrect so we dropped this attribute.\n",
      "Trainer is attempting to log a value of \"{'precision': 0.7610371408549405, 'recall': 0.7594405594405594, 'f1-score': 0.760238011900595, 'support': 1430.0}\" of type <class 'dict'> for key \"eval/neutral\" as a scalar. This invocation of Tensorboard's writer.add_scalar() is incorrect so we dropped this attribute.\n",
      "Trainer is attempting to log a value of \"{'precision': 0.8421052631578947, 'recall': 0.8413417951042611, 'f1-score': 0.8417233560090703, 'support': 1103.0}\" of type <class 'dict'> for key \"eval/positive\" as a scalar. This invocation of Tensorboard's writer.add_scalar() is incorrect so we dropped this attribute.\n",
      "Trainer is attempting to log a value of \"{'precision': 0.7977307184188721, 'recall': 0.7979963825838712, 'f1-score': 0.7978621641785956, 'support': 3534.0}\" of type <class 'dict'> for key \"eval/macro avg\" as a scalar. This invocation of Tensorboard's writer.add_scalar() is incorrect so we dropped this attribute.\n",
      "Trainer is attempting to log a value of \"{'precision': 0.7945571640296399, 'recall': 0.7945670628183361, 'f1-score': 0.7945608286492936, 'support': 3534.0}\" of type <class 'dict'> for key \"eval/weighted avg\" as a scalar. This invocation of Tensorboard's writer.add_scalar() is incorrect so we dropped this attribute.\n"
     ]
    },
    {
     "data": {
      "text/plain": [
       "TrainOutput(global_step=1290, training_loss=0.385979934810668, metrics={'train_runtime': 1369.1055, 'train_samples_per_second': 60.214, 'train_steps_per_second': 0.942, 'total_flos': 4594182275477088.0, 'train_loss': 0.385979934810668, 'epoch': 3.0})"
      ]
     },
     "execution_count": 23,
     "metadata": {},
     "output_type": "execute_result"
    }
   ],
   "source": [
    "trainer = Trainer(\n",
    "    model=model,\n",
    "    args=training_args,\n",
    "    train_dataset=tokenized_dataset[\"train\"],\n",
    "    eval_dataset=tokenized_dataset[\"test\"],\n",
    "    tokenizer=tokenizer,\n",
    "    compute_metrics=compute_metrics,\n",
    ")\n",
    "\n",
    "trainer.train()"
   ]
  },
  {
   "cell_type": "markdown",
   "metadata": {
    "id": "HFBeQEYQ9pHJ"
   },
   "source": [
    "### 9. Evaluate"
   ]
  },
  {
   "cell_type": "code",
   "execution_count": 33,
   "metadata": {
    "colab": {
     "base_uri": "https://localhost:8080/",
     "height": 807
    },
    "id": "cogbYT9dCim8",
    "outputId": "1a658577-80b6-4441-9e38-47e2f47a9ca0"
   },
   "outputs": [
    {
     "data": {
      "image/png": "[encoded data removed]",
      "text/plain": [
       "<Figure size 1000x800 with 2 Axes>"
      ]
     },
     "metadata": {},
     "output_type": "display_data"
    }
   ],
   "source": [
    "import matplotlib.pyplot as plt\n",
    "import seaborn as sns\n",
    "from sklearn.metrics import confusion_matrix\n",
    "\n",
    "# Compute confusion matrix\n",
    "cm = confusion_matrix(y_true, y_pred)\n",
    "labels = list(id2label.values())\n",
    "\n",
    "# Plot heatmap\n",
    "plt.figure(figsize=(10, 8))\n",
    "sns.heatmap(cm, annot=True, fmt=\"d\", cmap=\"Blues\", xticklabels=labels, yticklabels=labels)\n",
    "plt.title(\"Confusion Matrix\")\n",
    "plt.xlabel(\"Predicted Labels\")\n",
    "plt.ylabel(\"True Labels\")\n",
    "plt.xticks(rotation=45)\n",
    "plt.yticks(rotation=45)\n",
    "plt.tight_layout()\n",
    "plt.show()"
   ]
  },
  {
   "cell_type": "code",
   "execution_count": 34,
   "metadata": {
    "colab": {
     "base_uri": "https://localhost:8080/"
    },
    "id": "xPdWLrjtC5JV",
    "outputId": "eff210e2-763c-4ddb-eac4-ee1c096fdb5a"
   },
   "outputs": [
    {
     "name": "stdout",
     "output_type": "stream",
     "text": [
      "📌 General Evaluation Metrics:\n",
      "  🔹 Loss: 0.4963\n",
      "  🔹 Accuracy: 0.7937\n",
      "  ⏱️ Runtime: 10.83s | Samples/sec: 326.21\n",
      "\n",
      "📈 Per-Class Metrics:\n",
      "╒══════════╤═════════════╤══════════╤════════════╤═══════════╕\n",
      "│ Label    │   Precision │   Recall │   F1-Score │   Support │\n",
      "╞══════════╪═════════════╪══════════╪════════════╪═══════════╡\n",
      "│ Negative │      0.8539 │   0.7183 │     0.7802 │      1001 │\n",
      "├──────────┼─────────────┼──────────┼────────────┼───────────┤\n",
      "│ Neutral  │      0.7206 │   0.835  │     0.7736 │      1430 │\n",
      "├──────────┼─────────────┼──────────┼────────────┼───────────┤\n",
      "│ Positive │      0.8618 │   0.8087 │     0.8344 │      1103 │\n",
      "╘══════════╧═════════════╧══════════╧════════════╧═══════════╛\n",
      "\n",
      "📊 Averages:\n",
      "╒══════════════╤═════════════╤══════════╤════════════╕\n",
      "│ Type         │   Precision │   Recall │   F1-Score │\n",
      "╞══════════════╪═════════════╪══════════╪════════════╡\n",
      "│ Macro Avg    │      0.8121 │   0.7873 │     0.7961 │\n",
      "├──────────────┼─────────────┼──────────┼────────────┤\n",
      "│ Weighted Avg │      0.8024 │   0.7937 │     0.7945 │\n",
      "╘══════════════╧═════════════╧══════════╧════════════╛\n"
     ]
    }
   ],
   "source": [
    "from tabulate import tabulate\n",
    "\n",
    "# Print overall stats\n",
    "print(\"📌 General Evaluation Metrics:\")\n",
    "print(f\"  🔹 Loss: {eval_results['eval_loss']:.4f}\")\n",
    "print(f\"  🔹 Accuracy: {eval_results['eval_accuracy']:.4f}\")\n",
    "print(f\"  ⏱️ Runtime: {eval_results['eval_runtime']:.2f}s | Samples/sec: {eval_results['eval_samples_per_second']:.2f}\")\n",
    "\n",
    "# Print class-wise metrics\n",
    "print(\"\\n📈 Per-Class Metrics:\")\n",
    "rows = []\n",
    "for label in ['eval_negative', 'eval_neutral', 'eval_positive']:\n",
    "    metrics = eval_results[label]\n",
    "    rows.append([\n",
    "        label.replace(\"eval_\", \"\").capitalize(),\n",
    "        f\"{metrics['precision']:.4f}\",\n",
    "        f\"{metrics['recall']:.4f}\",\n",
    "        f\"{metrics['f1-score']:.4f}\",\n",
    "        int(metrics['support'])\n",
    "    ])\n",
    "\n",
    "print(tabulate(rows, headers=[\"Label\", \"Precision\", \"Recall\", \"F1-Score\", \"Support\"], tablefmt=\"fancy_grid\"))\n",
    "\n",
    "# Print macro & weighted avg\n",
    "print(\"\\n📊 Averages:\")\n",
    "macro = eval_results['eval_macro avg']\n",
    "weighted = eval_results['eval_weighted avg']\n",
    "\n",
    "print(tabulate([\n",
    "    [\"Macro Avg\", f\"{macro['precision']:.4f}\", f\"{macro['recall']:.4f}\", f\"{macro['f1-score']:.4f}\"],\n",
    "    [\"Weighted Avg\", f\"{weighted['precision']:.4f}\", f\"{weighted['recall']:.4f}\", f\"{weighted['f1-score']:.4f}\"],\n",
    "], headers=[\"Type\", \"Precision\", \"Recall\", \"F1-Score\"], tablefmt=\"fancy_grid\"))\n"
   ]
  }
 ],
 "metadata": {
  "accelerator": "GPU",
  "colab": {
   "collapsed_sections": [
    "I-CyWiZ185Gz",
    "R-vDErB_8_fn",
    "MYhR3Yfj940f",
    "9DSUk_B59OXI",
    "7pqpEMwE9RHz"
   ],
   "gpuType": "T4",
   "provenance": []
  },
  "kernelspec": {
   "display_name": "Python 3",
   "name": "python3"
  },
  "language_info": {
   "name": "python"
  }
 },
 "nbformat": 4,
 "nbformat_minor": 0
}
