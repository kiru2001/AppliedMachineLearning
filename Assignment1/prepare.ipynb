{
 "cells": [
  {
   "cell_type": "code",
   "execution_count": 3,
   "metadata": {},
   "outputs": [
    {
     "name": "stdout",
     "output_type": "stream",
     "text": [
      "Collecting nltk\n",
      "  Using cached nltk-3.9.1-py3-none-any.whl.metadata (2.9 kB)\n",
      "Requirement already satisfied: click in c:\\users\\kironmoy roy\\appdata\\local\\programs\\python\\python312\\lib\\site-packages (from nltk) (8.1.7)\n",
      "Requirement already satisfied: joblib in c:\\users\\kironmoy roy\\appdata\\local\\programs\\python\\python312\\lib\\site-packages (from nltk) (1.4.2)\n",
      "Collecting regex>=2021.8.3 (from nltk)\n",
      "  Using cached regex-2024.11.6-cp312-cp312-win_amd64.whl.metadata (41 kB)\n",
      "Collecting tqdm (from nltk)\n",
      "  Downloading tqdm-4.67.1-py3-none-any.whl.metadata (57 kB)\n",
      "Requirement already satisfied: colorama in c:\\users\\kironmoy roy\\appdata\\roaming\\python\\python312\\site-packages (from click->nltk) (0.4.6)\n",
      "Using cached nltk-3.9.1-py3-none-any.whl (1.5 MB)\n",
      "Using cached regex-2024.11.6-cp312-cp312-win_amd64.whl (273 kB)\n",
      "Downloading tqdm-4.67.1-py3-none-any.whl (78 kB)\n",
      "Installing collected packages: tqdm, regex, nltk\n",
      "Successfully installed nltk-3.9.1 regex-2024.11.6 tqdm-4.67.1\n"
     ]
    },
    {
     "name": "stderr",
     "output_type": "stream",
     "text": [
      "\n",
      "[notice] A new release of pip is available: 24.2 -> 25.0\n",
      "[notice] To update, run: python.exe -m pip install --upgrade pip\n"
     ]
    }
   ],
   "source": [
    "!pip install nltk"
   ]
  },
  {
   "cell_type": "code",
   "execution_count": 7,
   "metadata": {},
   "outputs": [
    {
     "name": "stderr",
     "output_type": "stream",
     "text": [
      "[nltk_data] Downloading package stopwords to C:\\Users\\kironmoy\n",
      "[nltk_data]     Roy\\AppData\\Roaming\\nltk_data...\n",
      "[nltk_data]   Package stopwords is already up-to-date!\n"
     ]
    },
    {
     "name": "stdout",
     "output_type": "stream",
     "text": [
      "Data preparation complete. Splits saved to 'data/' directory.\n"
     ]
    },
    {
     "name": "stderr",
     "output_type": "stream",
     "text": [
      "C:\\Users\\kironmoy Roy\\AppData\\Local\\Temp\\ipykernel_10412\\3256253377.py:44: SettingWithCopyWarning: \n",
      "A value is trying to be set on a copy of a slice from a DataFrame.\n",
      "Try using .loc[row_indexer,col_indexer] = value instead\n",
      "\n",
      "See the caveats in the documentation: https://pandas.pydata.org/pandas-docs/stable/user_guide/indexing.html#returning-a-view-versus-a-copy\n",
      "  df['Label'] = df['Label'].map({'ham': 0, 'spam': 1})\n",
      "C:\\Users\\kironmoy Roy\\AppData\\Local\\Temp\\ipykernel_10412\\3256253377.py:47: SettingWithCopyWarning: \n",
      "A value is trying to be set on a copy of a slice from a DataFrame\n",
      "\n",
      "See the caveats in the documentation: https://pandas.pydata.org/pandas-docs/stable/user_guide/indexing.html#returning-a-view-versus-a-copy\n",
      "  df.dropna(inplace=True)\n"
     ]
    }
   ],
   "source": [
    "import pandas as pd\n",
    "from sklearn.model_selection import train_test_split\n",
    "import os\n",
    "\n",
    "def load_data(file_path):\n",
    "    \"\"\"Loads the SMS Spam dataset from a given file path.\"\"\"\n",
    "    df = pd.read_csv(file_path, sep='\\t', names=['Label', 'Message'], header=None)\n",
    "    return df\n",
    "\n",
    "import pandas as pd\n",
    "import re\n",
    "import nltk\n",
    "from nltk.corpus import stopwords\n",
    "from nltk.stem import PorterStemmer\n",
    "\n",
    "nltk.download('stopwords')\n",
    "\n",
    "def preprocess_data(df):\n",
    "    \"\"\"Advanced preprocessing for text data with NaN handling.\"\"\"\n",
    "    stemmer = PorterStemmer()\n",
    "    stop_words = set(stopwords.words('english'))\n",
    "\n",
    "    def clean_text(text):\n",
    "        # Check if text is not NaN\n",
    "        if isinstance(text, str):\n",
    "            # Lowercase the text\n",
    "            text = text.lower()\n",
    "            # Remove special characters, numbers, and punctuations\n",
    "            text = re.sub(r'[^a-z\\s]', '', text)\n",
    "            # Tokenize and remove stopwords\n",
    "            tokens = [stemmer.stem(word) for word in text.split() if word not in stop_words]\n",
    "            # Join the tokens back into a single string\n",
    "            return ' '.join(tokens)\n",
    "        else:\n",
    "            return \"\"\n",
    "\n",
    "    # Apply text cleaning\n",
    "    df['Message'] = df['Message'].apply(clean_text)\n",
    "\n",
    "    # Remove rows with empty strings in Cleaned_Message\n",
    "    df = df[df['Message'].str.strip() != \"\"]\n",
    "\n",
    "    # Convert labels to binary format (0 = Ham, 1 = Spam)\n",
    "    df['Label'] = df['Label'].map({'ham': 0, 'spam': 1})\n",
    "\n",
    "    # Drop any remaining NaN values if they exist\n",
    "    df.dropna(inplace=True)\n",
    "\n",
    "    return df[['Message', 'Label']]\n",
    "\n",
    "\n",
    "\n",
    "def split_data(df):\n",
    "    \"\"\"Splits the dataset into train, validation, and test sets.\"\"\"\n",
    "    train_df, test_df = train_test_split(df, test_size=0.2, random_state=42, stratify=df['Label'])\n",
    "    train_df, val_df = train_test_split(train_df, test_size=0.25, random_state=42, stratify=train_df['Label'])  # 0.2 * 0.25 = 0.05 for validation\n",
    "    return train_df, val_df, test_df\n",
    "\n",
    "def save_splits(train_df, val_df, test_df):\n",
    "    \"\"\"Saves the splits as train.csv, validation.csv, and test.csv.\"\"\"\n",
    "    os.makedirs('data', exist_ok=True)\n",
    "    train_df.to_csv('data/train.csv', index=False)\n",
    "    val_df.to_csv('data/validation.csv', index=False)\n",
    "    test_df.to_csv('data/test.csv', index=False)\n",
    "\n",
    "if __name__ == \"__main__\":\n",
    "    file_path = \"SMSSpamCollection\"\n",
    "    df = load_data(file_path)\n",
    "    df = preprocess_data(df)\n",
    "    train_df, val_df, test_df = split_data(df)\n",
    "    save_splits(train_df, val_df, test_df)\n",
    "    print(\"Data preparation complete. Splits saved to 'data/' directory.\")\n"
   ]
  }
 ],
 "metadata": {
  "kernelspec": {
   "display_name": "Python 3",
   "language": "python",
   "name": "python3"
  },
  "language_info": {
   "codemirror_mode": {
    "name": "ipython",
    "version": 3
   },
   "file_extension": ".py",
   "mimetype": "text/x-python",
   "name": "python",
   "nbconvert_exporter": "python",
   "pygments_lexer": "ipython3",
   "version": "3.12.4"
  }
 },
 "nbformat": 4,
 "nbformat_minor": 2
}
